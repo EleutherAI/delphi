{
 "cells": [
  {
   "cell_type": "markdown",
   "metadata": {},
   "source": [
    "# Caching Autoencoder Activations"
   ]
  },
  {
   "cell_type": "markdown",
   "metadata": {},
   "source": [
    "Here we show a minimal example of how to cache autoencoder activations after loading the autoencoders into a model. We use the Gemma autoencoders for this example, but the procedure is the same for the other autoencoders."
   ]
  },
  {
   "cell_type": "markdown",
   "metadata": {},
   "source": [
    "## Loading the Autoencoders"
   ]
  },
  {
   "cell_type": "markdown",
   "metadata": {},
   "source": [
    "This code could be substituted for any of the other autoencoders (see the [loading autoencoders](loading_saes.ipynb) example).\n"
   ]
  },
  {
   "cell_type": "code",
   "execution_count": 5,
   "metadata": {},
   "outputs": [],
   "source": [
    "from transformers import AutoModel\n",
    "\n",
    "from delphi.config import RunConfig\n",
    "from delphi.sparse_coders import load_hooks_sparse_coders\n"
   ]
  },
  {
   "cell_type": "code",
   "execution_count": 8,
   "metadata": {},
   "outputs": [
    {
     "data": {
      "application/vnd.jupyter.widget-view+json": {
       "model_id": "91f2a4a69d9a4d66bfc19c79be8feccd",
       "version_major": 2,
       "version_minor": 0
      },
      "text/plain": [
       "Loading checkpoint shards:   0%|          | 0/3 [00:00<?, ?it/s]"
      ]
     },
     "metadata": {},
     "output_type": "display_data"
    },
    {
     "data": {
      "application/vnd.jupyter.widget-view+json": {
       "model_id": "f2fbfcd26a084e1f88b8d8f95b20982f",
       "version_major": 2,
       "version_minor": 0
      },
      "text/plain": [
       "params.npz:   0%|          | 0.00/302M [00:00<?, ?B/s]"
      ]
     },
     "metadata": {},
     "output_type": "display_data"
    }
   ],
   "source": [
    "# Load the model\n",
    "model = AutoModel.from_pretrained(\"google/gemma-2-2b\",\n",
    "                                   device_map=\"cuda\",\n",
    "                                     torch_dtype=\"float16\")\n",
    "\n",
    "# Load the autoencoders, the function returns a dictionary of the submodules\n",
    "# with the autoencoders and the edited model.\n",
    "# it takes as arguments the model, the layers to load the autoencoders into,\n",
    "# the average L0 sparsity per layer, the size of the autoencoders \n",
    "# and the type of autoencoders (residuals or MLPs).\n",
    "\n",
    "run_cfg = RunConfig(\n",
    "    sparse_model=\"google/gemma-scope-2b-pt-res\",\n",
    "    hookpoints=[\"layer_10/width_16k/average_l0_39\"],\n",
    ")\n",
    "\n",
    "hookpoint_to_sparse_encode = load_hooks_sparse_coders(model, run_cfg)"
   ]
  },
  {
   "cell_type": "markdown",
   "metadata": {},
   "source": [
    "## Loading the tokens and creating the cache"
   ]
  },
  {
   "cell_type": "code",
   "execution_count": 3,
   "metadata": {},
   "outputs": [],
   "source": [
    "from delphi.config import CacheConfig\n",
    "from delphi.latents import LatentCache\n",
    "from delphi.utils import load_tokenized_data"
   ]
  },
  {
   "cell_type": "code",
   "execution_count": null,
   "metadata": {},
   "outputs": [],
   "source": [
    "# There is a default cache config that can also be modified\n",
    "# when making a \"production\" script.\n",
    "cfg = CacheConfig(\n",
    "    dataset_repo=\"EleutherAI/rpj-v2-sample\",\n",
    "    dataset_split=\"train[:1%]\",\n",
    "    batch_size=8,\n",
    "    ctx_len=256,\n",
    "    n_tokens=1_000_000,\n",
    "    n_splits=5,\n",
    ")\n",
    "\n",
    "tokens = load_tokenized_data(\n",
    "        ctx_len=cfg.ctx_len,\n",
    "        tokenizer=model.tokenizer,\n",
    "        dataset_repo=cfg.dataset_repo,\n",
    "        dataset_split=cfg.dataset_split,\n",
    ")\n",
    "# Tokens should have the shape (n_batches,ctx_len)\n",
    "\n",
    "cache = LatentCache(\n",
    "    model,\n",
    "    hookpoint_to_sparse_encode,\n",
    "    batch_size = cfg.batch_size,\n",
    ")"
   ]
  },
  {
   "cell_type": "markdown",
   "metadata": {},
   "source": [
    "# Running the cache and saving the results"
   ]
  },
  {
   "cell_type": "code",
   "execution_count": 6,
   "metadata": {},
   "outputs": [
    {
     "name": "stderr",
     "output_type": "stream",
     "text": [
      "Caching features:   0%|          | 0/488 [00:00<?, ?it/s]You're using a GemmaTokenizerFast tokenizer. Please note that with a fast tokenizer, using the `__call__` method is faster than using a method to encode the text followed by a call to the `pad` method to get a padded encoding.\n",
      "The 'batch_size' argument of HybridCache is deprecated and will be removed in v4.49. Use the more precisely named 'max_batch_size' argument instead.\n",
      "The 'batch_size' attribute of HybridCache is deprecated and will be removed in v4.49. Use the more precisely named 'self.max_batch_size' attribute instead.\n",
      "Caching features: 100%|██████████| 488/488 [04:59<00:00,  1.63it/s, Total Tokens=999,424]\n"
     ]
    },
    {
     "name": "stdout",
     "output_type": "stream",
     "text": [
      "Total tokens processed: 999,424\n"
     ]
    }
   ],
   "source": [
    "\n",
    "\n",
    "cache.run(cfg.n_tokens, tokens)\n",
    "\n",
    "cache.save_splits(\n",
    "    n_splits=cfg.n_splits,  \n",
    "    # We split the activation and location indices into different for faster loading\n",
    "    save_dir=\"latents\"\n",
    ")\n",
    "\n",
    "# The config of the cache should be saved with the results~\n",
    "# such that it can be loaded later.\n",
    "\n",
    "cache.save_config(\n",
    "    save_dir=\"latents\",\n",
    "    cfg=cfg,\n",
    "    model_name=\"google/gemma-2-9b\"\n",
    ")"
   ]
  }
 ],
 "metadata": {
  "kernelspec": {
   "display_name": "base",
   "language": "python",
   "name": "python3"
  },
  "language_info": {
   "codemirror_mode": {
    "name": "ipython",
    "version": 3
   },
   "file_extension": ".py",
   "mimetype": "text/x-python",
   "name": "python",
   "nbconvert_exporter": "python",
   "pygments_lexer": "ipython3",
   "version": "3.12.2"
  }
 },
 "nbformat": 4,
 "nbformat_minor": 2
}
